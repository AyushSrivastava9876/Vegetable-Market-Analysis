{
 "cells": [
  {
   "cell_type": "code",
   "execution_count": 1,
   "id": "67375b9c",
   "metadata": {},
   "outputs": [],
   "source": [
    "import requests\n",
    "import json\n",
    "import pandas as pd\n",
    "from datetime import date, timedelta"
   ]
  },
  {
   "cell_type": "code",
   "execution_count": 2,
   "id": "2642a742",
   "metadata": {},
   "outputs": [],
   "source": [
    "start_date = date(2021, 11, 15)\n",
    "end_date = date(2023, 3, 31)\n",
    "delta = timedelta(days=1)\n",
    "all_data = []\n",
    "for i in range((end_date - start_date).days + 1):\n",
    "    current_date = start_date + timedelta(days=i)\n",
    "    url = f\"https://vegetablemarketprice.com/api/data/market/noida/daywise?date={current_date}\"\n",
    "    response = requests.get(url)\n",
    "    data = response.content\n",
    "    all_data.append(data)\n",
    "df = pd.DataFrame(all_data)\n",
    "df.to_excel(\"market_data.xlsx\", index=False)"
   ]
  },
  {
   "cell_type": "code",
   "execution_count": 3,
   "id": "7c0097a3",
   "metadata": {},
   "outputs": [],
   "source": [
    "def flatten_dict(d, parent_key='', sep='_'):\n",
    "    items = []\n",
    "    for k, v in d.items():\n",
    "        new_key = parent_key + sep + k if parent_key else k\n",
    "        if isinstance(v, dict):\n",
    "            items.extend(flatten_dict(v, new_key, sep=sep).items())\n",
    "        else:\n",
    "            items.append((new_key, v))\n",
    "    return dict(items)\n",
    "start_date = '2022-01-26'\n",
    "end_date = '2023-03-31'\n",
    "data = []\n",
    "date = start_date\n",
    "while date <= end_date:\n",
    "    url = f'https://vegetablemarketprice.com/api/data/market/noida/daywise?date={date}'\n",
    "    response = requests.get(url)\n",
    "    data_dict = json.loads(response.content)\n",
    "    for item in data_dict['data']:\n",
    "        flat_item = flatten_dict(item)\n",
    "        flat_item['date'] = date\n",
    "        data.append(flat_item)\n",
    "    date = pd.to_datetime(date).date() + pd.Timedelta(days=1)\n",
    "    date = date.strftime('%Y-%m-%d')\n",
    "df = pd.DataFrame(data)\n",
    "df.to_excel('vegetable_prices.xlsx', index=False)"
   ]
  },
  {
   "cell_type": "code",
   "execution_count": null,
   "id": "e2419879",
   "metadata": {},
   "outputs": [],
   "source": []
  },
  {
   "cell_type": "code",
   "execution_count": null,
   "id": "a27d1fc1",
   "metadata": {},
   "outputs": [],
   "source": []
  },
  {
   "cell_type": "code",
   "execution_count": null,
   "id": "7e590e74",
   "metadata": {},
   "outputs": [],
   "source": []
  },
  {
   "cell_type": "code",
   "execution_count": null,
   "id": "df27478e",
   "metadata": {},
   "outputs": [],
   "source": []
  },
  {
   "cell_type": "code",
   "execution_count": null,
   "id": "88d81c39",
   "metadata": {},
   "outputs": [],
   "source": []
  }
 ],
 "metadata": {
  "kernelspec": {
   "display_name": "Python 3 (ipykernel)",
   "language": "python",
   "name": "python3"
  },
  "language_info": {
   "codemirror_mode": {
    "name": "ipython",
    "version": 3
   },
   "file_extension": ".py",
   "mimetype": "text/x-python",
   "name": "python",
   "nbconvert_exporter": "python",
   "pygments_lexer": "ipython3",
   "version": "3.9.13"
  }
 },
 "nbformat": 4,
 "nbformat_minor": 5
}
